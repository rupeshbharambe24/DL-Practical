{
 "cells": [
  {
   "cell_type": "markdown",
   "id": "4bc10983",
   "metadata": {},
   "source": [
    "Rupesh Bharambe (AI3107)"
   ]
  },
  {
   "cell_type": "code",
   "execution_count": 8,
   "id": "702d0305",
   "metadata": {},
   "outputs": [],
   "source": [
    "import os\n",
    "import numpy as np\n",
    "import cv2\n",
    "from tensorflow.keras.utils import to_categorical\n",
    "from sklearn.preprocessing import LabelEncoder\n",
    "from sklearn.model_selection import train_test_split\n",
    "from tensorflow.keras.models import Sequential\n",
    "from tensorflow.keras.layers import Conv2D, MaxPooling2D, Flatten, Dense, Activation\n",
    "from tensorflow.keras.optimizers import Adam\n",
    "import matplotlib.pyplot as plt"
   ]
  },
  {
   "cell_type": "code",
   "execution_count": 18,
   "id": "75f804ca",
   "metadata": {},
   "outputs": [],
   "source": [
    "# Set the dataset paths\n",
    "train_dir = \"VegetableDataset/train\"\n",
    "valid_dir = \"VegetableDataset/validation\"\n",
    "test_dir = \"VegetableDataset/test\""
   ]
  },
  {
   "cell_type": "code",
   "execution_count": 19,
   "id": "a6962a43",
   "metadata": {},
   "outputs": [],
   "source": [
    "IMG_SIZE = 224"
   ]
  },
  {
   "cell_type": "code",
   "execution_count": 20,
   "id": "a91c892a",
   "metadata": {},
   "outputs": [
    {
     "name": "stdout",
     "output_type": "stream",
     "text": [
      "Error loading image: VegetableDataset/train\\bell pepper\\Image_56.jpg\n"
     ]
    }
   ],
   "source": [
    "def load_data_from_directory(directory):\n",
    "    data = []\n",
    "    labels = []\n",
    "    classes = sorted(os.listdir(directory))\n",
    "\n",
    "    for class_name in classes:\n",
    "        class_path = os.path.join(directory, class_name)\n",
    "        if not os.path.isdir(class_path):\n",
    "            continue\n",
    "        for img_file in os.listdir(class_path):\n",
    "            img_path = os.path.join(class_path, img_file)\n",
    "            try:\n",
    "                image = cv2.imread(img_path)\n",
    "                image = cv2.resize(image, (IMG_SIZE, IMG_SIZE))\n",
    "                image = image.astype(\"float32\") / 255.0  # Normalize\n",
    "                data.append(image)\n",
    "                labels.append(class_name)\n",
    "            except:\n",
    "                print(f\"Error loading image: {img_path}\")\n",
    "    \n",
    "    return np.array(data), np.array(labels)\n",
    "\n",
    "# Load all sets\n",
    "trainX, trainY = load_data_from_directory(train_dir)\n",
    "validX, validY = load_data_from_directory(valid_dir)\n",
    "testX, testY = load_data_from_directory(test_dir)"
   ]
  },
  {
   "cell_type": "code",
   "execution_count": 21,
   "id": "28eec3b7",
   "metadata": {},
   "outputs": [
    {
     "name": "stdout",
     "output_type": "stream",
     "text": [
      "Train: (3070, 224, 224, 3) (3070, 36)\n",
      "Validation: (351, 224, 224, 3) (351, 36)\n",
      "Test: (359, 224, 224, 3) (359, 36)\n"
     ]
    }
   ],
   "source": [
    "# Encode class labels\n",
    "le = LabelEncoder()\n",
    "trainY = to_categorical(le.fit_transform(trainY))\n",
    "validY = to_categorical(le.transform(validY))\n",
    "testY = to_categorical(le.transform(testY))\n",
    "\n",
    "print(\"Train:\", trainX.shape, trainY.shape)\n",
    "print(\"Validation:\", validX.shape, validY.shape)\n",
    "print(\"Test:\", testX.shape, testY.shape)"
   ]
  },
  {
   "cell_type": "code",
   "execution_count": 22,
   "id": "b3c01345",
   "metadata": {},
   "outputs": [
    {
     "name": "stderr",
     "output_type": "stream",
     "text": [
      "C:\\Users\\rupes\\AppData\\Roaming\\Python\\Python311\\site-packages\\keras\\src\\layers\\convolutional\\base_conv.py:107: UserWarning: Do not pass an `input_shape`/`input_dim` argument to a layer. When using Sequential models, prefer using an `Input(shape)` object as the first layer in the model instead.\n",
      "  super().__init__(activity_regularizer=activity_regularizer, **kwargs)\n"
     ]
    }
   ],
   "source": [
    "# Build the custom CNN model\n",
    "model = Sequential()\n",
    "model.add(Conv2D(16, (3, 3), padding=\"same\", input_shape=(IMG_SIZE, IMG_SIZE, 3)))\n",
    "model.add(Activation(\"relu\"))\n",
    "model.add(MaxPooling2D(pool_size=(2, 2)))\n",
    "\n",
    "model.add(Conv2D(32, (3, 3), padding=\"same\"))\n",
    "model.add(Activation(\"relu\"))\n",
    "model.add(MaxPooling2D(pool_size=(2, 2)))\n",
    "\n",
    "model.add(Conv2D(64, (3, 3), padding=\"same\"))\n",
    "model.add(Activation(\"relu\"))\n",
    "model.add(MaxPooling2D(pool_size=(2, 2)))\n",
    "\n",
    "model.add(Flatten())\n",
    "model.add(Dense(1024))\n",
    "model.add(Activation(\"relu\"))\n",
    "model.add(Dense(trainY.shape[1], activation=\"softmax\"))"
   ]
  },
  {
   "cell_type": "code",
   "execution_count": 23,
   "id": "e9965bd4",
   "metadata": {},
   "outputs": [
    {
     "name": "stdout",
     "output_type": "stream",
     "text": [
      "[INFO] compiling model...\n"
     ]
    }
   ],
   "source": [
    "# Compile the model\n",
    "print(\"[INFO] compiling model...\")\n",
    "opt = Adam()\n",
    "model.compile(loss=\"categorical_crossentropy\", optimizer=opt, metrics=[\"accuracy\"])\n"
   ]
  },
  {
   "cell_type": "code",
   "execution_count": 24,
   "id": "6aecaa96",
   "metadata": {},
   "outputs": [
    {
     "name": "stdout",
     "output_type": "stream",
     "text": [
      "[INFO] training model...\n",
      "Epoch 1/10\n",
      "\u001b[1m96/96\u001b[0m \u001b[32m━━━━━━━━━━━━━━━━━━━━\u001b[0m\u001b[37m\u001b[0m \u001b[1m76s\u001b[0m 735ms/step - accuracy: 0.0866 - loss: 3.6591 - val_accuracy: 0.3134 - val_loss: 2.1959\n",
      "Epoch 2/10\n",
      "\u001b[1m96/96\u001b[0m \u001b[32m━━━━━━━━━━━━━━━━━━━━\u001b[0m\u001b[37m\u001b[0m \u001b[1m68s\u001b[0m 702ms/step - accuracy: 0.3015 - loss: 2.4255 - val_accuracy: 0.5840 - val_loss: 1.5126\n",
      "Epoch 3/10\n",
      "\u001b[1m96/96\u001b[0m \u001b[32m━━━━━━━━━━━━━━━━━━━━\u001b[0m\u001b[37m\u001b[0m \u001b[1m66s\u001b[0m 686ms/step - accuracy: 0.4782 - loss: 1.7790 - val_accuracy: 0.8034 - val_loss: 0.7745\n",
      "Epoch 4/10\n",
      "\u001b[1m96/96\u001b[0m \u001b[32m━━━━━━━━━━━━━━━━━━━━\u001b[0m\u001b[37m\u001b[0m \u001b[1m69s\u001b[0m 715ms/step - accuracy: 0.6880 - loss: 1.0140 - val_accuracy: 0.9031 - val_loss: 0.4569\n",
      "Epoch 5/10\n",
      "\u001b[1m96/96\u001b[0m \u001b[32m━━━━━━━━━━━━━━━━━━━━\u001b[0m\u001b[37m\u001b[0m \u001b[1m65s\u001b[0m 680ms/step - accuracy: 0.8856 - loss: 0.4100 - val_accuracy: 0.9373 - val_loss: 0.3274\n",
      "Epoch 6/10\n",
      "\u001b[1m96/96\u001b[0m \u001b[32m━━━━━━━━━━━━━━━━━━━━\u001b[0m\u001b[37m\u001b[0m \u001b[1m67s\u001b[0m 698ms/step - accuracy: 0.9490 - loss: 0.2146 - val_accuracy: 0.9516 - val_loss: 0.2681\n",
      "Epoch 7/10\n",
      "\u001b[1m96/96\u001b[0m \u001b[32m━━━━━━━━━━━━━━━━━━━━\u001b[0m\u001b[37m\u001b[0m \u001b[1m66s\u001b[0m 684ms/step - accuracy: 0.9792 - loss: 0.1004 - val_accuracy: 0.9544 - val_loss: 0.2686\n",
      "Epoch 8/10\n",
      "\u001b[1m96/96\u001b[0m \u001b[32m━━━━━━━━━━━━━━━━━━━━\u001b[0m\u001b[37m\u001b[0m \u001b[1m65s\u001b[0m 678ms/step - accuracy: 0.9841 - loss: 0.0873 - val_accuracy: 0.9544 - val_loss: 0.2817\n",
      "Epoch 9/10\n",
      "\u001b[1m96/96\u001b[0m \u001b[32m━━━━━━━━━━━━━━━━━━━━\u001b[0m\u001b[37m\u001b[0m \u001b[1m65s\u001b[0m 672ms/step - accuracy: 0.9864 - loss: 0.0568 - val_accuracy: 0.9630 - val_loss: 0.2525\n",
      "Epoch 10/10\n",
      "\u001b[1m96/96\u001b[0m \u001b[32m━━━━━━━━━━━━━━━━━━━━\u001b[0m\u001b[37m\u001b[0m \u001b[1m65s\u001b[0m 678ms/step - accuracy: 0.9907 - loss: 0.0511 - val_accuracy: 0.9459 - val_loss: 0.2815\n"
     ]
    }
   ],
   "source": [
    "# Train the model\n",
    "print(\"[INFO] training model...\")\n",
    "H = model.fit(trainX, trainY,\n",
    "              validation_data=(validX, validY),\n",
    "              epochs=10,\n",
    "              batch_size=32,\n",
    "              verbose=1)\n"
   ]
  },
  {
   "cell_type": "code",
   "execution_count": 25,
   "id": "2dd40447",
   "metadata": {},
   "outputs": [
    {
     "name": "stdout",
     "output_type": "stream",
     "text": [
      "[INFO] evaluating model...\n",
      "Test Accuracy: 94.71%\n"
     ]
    }
   ],
   "source": [
    "# Evaluate the model\n",
    "print(\"[INFO] evaluating model...\")\n",
    "loss, acc = model.evaluate(testX, testY, verbose=0)\n",
    "print(f\"Test Accuracy: {acc * 100:.2f}%\")\n"
   ]
  },
  {
   "cell_type": "code",
   "execution_count": 26,
   "id": "3f23efd9",
   "metadata": {},
   "outputs": [
    {
     "name": "stdout",
     "output_type": "stream",
     "text": [
      "\u001b[1m1/1\u001b[0m \u001b[32m━━━━━━━━━━━━━━━━━━━━\u001b[0m\u001b[37m\u001b[0m \u001b[1m0s\u001b[0m 114ms/step\n",
      "Predicted class: apple\n",
      "Actual class: apple\n"
     ]
    }
   ],
   "source": [
    "# Prediction example\n",
    "sample = np.expand_dims(testX[0], axis=0)\n",
    "pred = model.predict(sample)\n",
    "predicted_index = np.argmax(pred)\n",
    "actual_index = np.argmax(testY[0])\n",
    "\n",
    "print(f\"Predicted class: {le.classes_[predicted_index]}\")\n",
    "print(f\"Actual class: {le.classes_[actual_index]}\")\n"
   ]
  },
  {
   "cell_type": "code",
   "execution_count": 27,
   "id": "6367b03c",
   "metadata": {},
   "outputs": [
    {
     "data": {
      "image/png": "[encoded data removed]",
      "text/plain": [
       "<Figure size 640x480 with 1 Axes>"
      ]
     },
     "metadata": {},
     "output_type": "display_data"
    }
   ],
   "source": [
    "#plot training history\n",
    "plt.plot(H.history[\"loss\"], label=\"train_loss\")\n",
    "plt.plot(H.history[\"val_loss\"], label=\"val_loss\")\n",
    "plt.plot(H.history[\"accuracy\"], label=\"train_acc\")\n",
    "plt.plot(H.history[\"val_accuracy\"], label=\"val_acc\")\n",
    "plt.title(\"Training History\")\n",
    "plt.xlabel(\"Epoch\")\n",
    "plt.ylabel(\"Loss/Accuracy\")\n",
    "plt.legend()\n",
    "plt.show()\n"
   ]
  },
  {
   "cell_type": "code",
   "execution_count": null,
   "id": "fa3d3682",
   "metadata": {},
   "outputs": [],
   "source": []
  }
 ],
 "metadata": {
  "kernelspec": {
   "display_name": "Python 3",
   "language": "python",
   "name": "python3"
  },
  "language_info": {
   "codemirror_mode": {
    "name": "ipython",
    "version": 3
   },
   "file_extension": ".py",
   "mimetype": "text/x-python",
   "name": "python",
   "nbconvert_exporter": "python",
   "pygments_lexer": "ipython3",
   "version": "3.11.3"
  }
 },
 "nbformat": 4,
 "nbformat_minor": 5
}
