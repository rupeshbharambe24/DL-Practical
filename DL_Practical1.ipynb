{
 "cells": [
  {
   "cell_type": "code",
   "execution_count": 1,
   "id": "040afc3f-24ac-459e-99a6-e52965800f3b",
   "metadata": {},
   "outputs": [],
   "source": [
    "import pandas as pd\n",
    "path=r\"heart_2022_no_nans.xlsx\"\n",
    "df=pd.read_excel(path,engine=\"openpyxl\")"
   ]
  },
  {
   "cell_type": "code",
   "execution_count": 2,
   "id": "281c4381-225b-4ba0-acec-3c3203931d04",
   "metadata": {},
   "outputs": [
    {
     "name": "stdout",
     "output_type": "stream",
     "text": [
      "Categorical Columns: ['State', 'Sex', 'GeneralHealth', 'LastCheckupTime', 'PhysicalActivities', 'RemovedTeeth', 'HadHeartAttack', 'HadAngina', 'HadStroke', 'HadAsthma', 'HadSkinCancer', 'HadCOPD', 'HadDepressiveDisorder', 'HadKidneyDisease', 'HadArthritis', 'HadDiabetes', 'DeafOrHardOfHearing', 'BlindOrVisionDifficulty', 'DifficultyConcentrating', 'DifficultyWalking', 'DifficultyDressingBathing', 'DifficultyErrands', 'SmokerStatus', 'ECigaretteUsage', 'ChestScan', 'RaceEthnicityCategory', 'AgeCategory', 'AlcoholDrinkers', 'HIVTesting', 'FluVaxLast12', 'PneumoVaxEver', 'TetanusLast10Tdap', 'HighRiskLastYear', 'CovidPos']\n",
      "Numerical Columns: ['PhysicalHealthDays', 'MentalHealthDays', 'SleepHours', 'HeightInMeters', 'WeightInKilograms', 'BMI']\n"
     ]
    }
   ],
   "source": [
    "import pandas as pd\n",
    "import numpy as np\n",
    "from sklearn.model_selection import train_test_split\n",
    "from sklearn.preprocessing import LabelEncoder, StandardScaler\n",
    "import tensorflow as tf\n",
    "from tensorflow import keras\n",
    "from tensorflow.keras.models import Sequential\n",
    "from tensorflow.keras.layers import Dense\n",
    "# Identify categorical and numerical columns\n",
    "#categorical_cols = [\"State\", \"Sex\", \"GeneralHealth\", \"LastCheckupTime\", \"PhysicalActivities\", \"RemovedTeeth\"]\n",
    "#numerical_cols = [\"PhysicalHealthDays\", \"MentalHealthDays\", \"SleepHours\"]\n",
    "\n",
    "# Automatically identify categorical and numerical columns\n",
    "categorical_cols = df.select_dtypes(include=['object']).columns.tolist()  # Select string-based categorical columns\n",
    "numerical_cols = df.select_dtypes(include=['int64', 'float64']).columns.tolist()  # Select numerical columns\n",
    "\n",
    "# Print results\n",
    "print(\"Categorical Columns:\", categorical_cols)\n",
    "print(\"Numerical Columns:\", numerical_cols)\n"
   ]
  },
  {
   "cell_type": "code",
   "execution_count": 3,
   "id": "d056c19d-8b4d-4db4-9ae4-66b3a5cabc34",
   "metadata": {},
   "outputs": [],
   "source": [
    "# Encode categorical columns\n",
    "label_encoders = {}\n",
    "for col in categorical_cols:\n",
    "    le = LabelEncoder()\n",
    "    df[col] = le.fit_transform(df[col])\n",
    "    label_encoders[col] = le  # Save encoders for later use"
   ]
  },
  {
   "cell_type": "code",
   "execution_count": 4,
   "id": "05260b20-2e9e-474d-bd45-b0915daecdd6",
   "metadata": {},
   "outputs": [
    {
     "name": "stdout",
     "output_type": "stream",
     "text": [
      "   State  Sex  GeneralHealth  PhysicalHealthDays  MentalHealthDays  \\\n",
      "0      0    0              4                   4                 0   \n",
      "1      0    1              4                   0                 0   \n",
      "2      0    1              4                   0                 0   \n",
      "3      0    0              1                   5                 0   \n",
      "4      0    0              2                   3                15   \n",
      "\n",
      "   LastCheckupTime  PhysicalActivities  SleepHours  RemovedTeeth  \\\n",
      "0                3                   1           9             3   \n",
      "1                3                   1           6             3   \n",
      "2                3                   0           8             1   \n",
      "3                3                   1           9             3   \n",
      "4                3                   1           5             0   \n",
      "\n",
      "   HadHeartAttack  ...  HeightInMeters  WeightInKilograms    BMI  \\\n",
      "0               0  ...            1.60              71.67  27.99   \n",
      "1               0  ...            1.78              95.25  30.13   \n",
      "2               0  ...            1.85             108.86  31.66   \n",
      "3               0  ...            1.70              90.72  31.32   \n",
      "4               0  ...            1.55              79.38  33.07   \n",
      "\n",
      "   AlcoholDrinkers  HIVTesting  FluVaxLast12  PneumoVaxEver  \\\n",
      "0                0           0             1              1   \n",
      "1                0           0             1              1   \n",
      "2                1           0             0              1   \n",
      "3                0           0             1              1   \n",
      "4                0           0             1              1   \n",
      "\n",
      "   TetanusLast10Tdap  HighRiskLastYear  CovidPos  \n",
      "0                  1                 0         0  \n",
      "1                  2                 0         0  \n",
      "2                  0                 0         2  \n",
      "3                  0                 0         2  \n",
      "4                  0                 0         0  \n",
      "\n",
      "[5 rows x 40 columns]\n"
     ]
    }
   ],
   "source": [
    "print(df.head())"
   ]
  },
  {
   "cell_type": "code",
   "execution_count": 5,
   "id": "0594de0f-fc00-4e69-ba0c-370f37eb8360",
   "metadata": {},
   "outputs": [],
   "source": [
    "\n",
    "# Normalize numerical columns\n",
    "scaler = StandardScaler()\n",
    "df[numerical_cols] = scaler.fit_transform(df[numerical_cols])\n",
    "\n",
    "# Define target variable (Modify this based on what you want to predict)\n",
    "target_col = \"HadHeartAttack\"  # Example target column\n",
    "df[target_col] = LabelEncoder().fit_transform(df[target_col])  # Convert \"Yes/No\" to 1/0\n",
    "\n",
    "# Split into features and target\n",
    "X = df.drop(columns=[target_col])\n",
    "y = df[target_col]"
   ]
  },
  {
   "cell_type": "code",
   "execution_count": 6,
   "id": "85a24a51-5c81-4f69-b45c-205d28da4866",
   "metadata": {},
   "outputs": [
    {
     "name": "stdout",
     "output_type": "stream",
     "text": [
      "   State  Sex  GeneralHealth  PhysicalHealthDays  MentalHealthDays  \\\n",
      "0      0    0              4           -0.014160         -0.514292   \n",
      "1      0    1              4           -0.490020         -0.514292   \n",
      "2      0    1              4           -0.490020         -0.514292   \n",
      "3      0    0              1            0.104805         -0.514292   \n",
      "4      0    0              2           -0.133125          1.336949   \n",
      "\n",
      "   LastCheckupTime  PhysicalActivities  SleepHours  RemovedTeeth  \\\n",
      "0                3                   1    1.373428             3   \n",
      "1                3                   1   -0.708924             3   \n",
      "2                3                   0    0.679311             1   \n",
      "3                3                   1    1.373428             3   \n",
      "4                3                   1   -1.403041             0   \n",
      "\n",
      "   HadHeartAttack  ...  HeightInMeters  WeightInKilograms       BMI  \\\n",
      "0               0  ...       -0.985904          -0.560199 -0.104105   \n",
      "1               0  ...        0.701799           0.545644  0.224420   \n",
      "2               0  ...        1.358128           1.183918  0.459300   \n",
      "3               0  ...       -0.048291           0.333198  0.407105   \n",
      "4               0  ...       -1.454710          -0.198619  0.675759   \n",
      "\n",
      "   AlcoholDrinkers  HIVTesting  FluVaxLast12  PneumoVaxEver  \\\n",
      "0                0           0             1              1   \n",
      "1                0           0             1              1   \n",
      "2                1           0             0              1   \n",
      "3                0           0             1              1   \n",
      "4                0           0             1              1   \n",
      "\n",
      "   TetanusLast10Tdap  HighRiskLastYear  CovidPos  \n",
      "0                  1                 0         0  \n",
      "1                  2                 0         0  \n",
      "2                  0                 0         2  \n",
      "3                  0                 0         2  \n",
      "4                  0                 0         0  \n",
      "\n",
      "[5 rows x 40 columns]\n"
     ]
    }
   ],
   "source": [
    "print(df.head())"
   ]
  },
  {
   "cell_type": "code",
   "execution_count": 8,
   "id": "bb04908e-fe01-4569-ac5d-86314ed68c4b",
   "metadata": {},
   "outputs": [],
   "source": [
    "import pickle\n",
    "\n",
    "# Save label encoders\n",
    "with open(\"label_encoders.pkl\", \"wb\") as f:\n",
    "    pickle.dump(label_encoders, f)\n",
    "\n",
    "# Save the scaler\n",
    "with open(\"scaler.pkl\", \"wb\") as f:\n",
    "    pickle.dump(scaler, f)"
   ]
  },
  {
   "cell_type": "code",
   "execution_count": 9,
   "id": "2e8859bf-f4f2-4d17-aad2-2123776f0a20",
   "metadata": {},
   "outputs": [
    {
     "name": "stdout",
     "output_type": "stream",
     "text": [
      "Epoch 1/3\n"
     ]
    },
    {
     "name": "stderr",
     "output_type": "stream",
     "text": [
      "C:\\Users\\rupes\\AppData\\Roaming\\Python\\Python311\\site-packages\\keras\\src\\layers\\core\\dense.py:87: UserWarning: Do not pass an `input_shape`/`input_dim` argument to a layer. When using Sequential models, prefer using an `Input(shape)` object as the first layer in the model instead.\n",
      "  super().__init__(activity_regularizer=activity_regularizer, **kwargs)\n"
     ]
    },
    {
     "name": "stdout",
     "output_type": "stream",
     "text": [
      "\u001b[1m12302/12302\u001b[0m \u001b[32m━━━━━━━━━━━━━━━━━━━━\u001b[0m\u001b[37m\u001b[0m \u001b[1m23s\u001b[0m 2ms/step - accuracy: 0.9437 - loss: 0.2004 - val_accuracy: 0.9467 - val_loss: 0.1660\n",
      "Epoch 2/3\n",
      "\u001b[1m12302/12302\u001b[0m \u001b[32m━━━━━━━━━━━━━━━━━━━━\u001b[0m\u001b[37m\u001b[0m \u001b[1m22s\u001b[0m 2ms/step - accuracy: 0.9463 - loss: 0.1609 - val_accuracy: 0.9475 - val_loss: 0.1507\n",
      "Epoch 3/3\n",
      "\u001b[1m12302/12302\u001b[0m \u001b[32m━━━━━━━━━━━━━━━━━━━━\u001b[0m\u001b[37m\u001b[0m \u001b[1m24s\u001b[0m 2ms/step - accuracy: 0.9460 - loss: 0.1571 - val_accuracy: 0.9478 - val_loss: 0.1501\n"
     ]
    },
    {
     "name": "stderr",
     "output_type": "stream",
     "text": [
      "WARNING:absl:You are saving your model as an HDF5 file via `model.save()` or `keras.saving.save_model(model)`. This file format is considered legacy. We recommend using instead the native Keras format, e.g. `model.save('my_model.keras')` or `keras.saving.save_model(model, 'my_model.keras')`. \n"
     ]
    }
   ],
   "source": [
    "# Train-test split\n",
    "X_train, X_test, y_train, y_test = train_test_split(X, y, test_size=0.2, random_state=42)\n",
    "\n",
    "# Build the neural network\n",
    "model = Sequential([\n",
    "    Dense(32, activation='relu', input_shape=(X_train.shape[1],)),\n",
    "    Dense(16, activation='relu'),\n",
    "    Dense(1, activation='sigmoid')  # Sigmoid for binary classification\n",
    "])\n",
    "\n",
    "# Compile the model\n",
    "model.compile(optimizer='sgd', loss='binary_crossentropy', metrics=['accuracy'])\n",
    "\n",
    "# Train the model\n",
    "model.fit(X_train, y_train, epochs=3, batch_size=16, validation_data=(X_test, y_test))\n",
    "# Save model weights\n",
    "model.save(\"health_model.weights.h5\")\n"
   ]
  },
  {
   "cell_type": "code",
   "execution_count": 10,
   "id": "61d67755-2760-4255-8882-7d1969b9e574",
   "metadata": {},
   "outputs": [
    {
     "name": "stderr",
     "output_type": "stream",
     "text": [
      "WARNING:absl:You are saving your model as an HDF5 file via `model.save()` or `keras.saving.save_model(model)`. This file format is considered legacy. We recommend using instead the native Keras format, e.g. `model.save('my_model.keras')` or `keras.saving.save_model(model, 'my_model.keras')`. \n"
     ]
    }
   ],
   "source": [
    "model.save(\"health_model.h5\")"
   ]
  },
  {
   "cell_type": "code",
   "execution_count": 11,
   "id": "842553d0-301b-44dd-ada3-384ec1ff57f1",
   "metadata": {},
   "outputs": [
    {
     "name": "stdout",
     "output_type": "stream",
     "text": [
      "\u001b[1m1538/1538\u001b[0m \u001b[32m━━━━━━━━━━━━━━━━━━━━\u001b[0m\u001b[37m\u001b[0m \u001b[1m3s\u001b[0m 2ms/step - accuracy: 0.9463 - loss: 0.1540\n",
      "Test Accuracy: 0.9478\n"
     ]
    }
   ],
   "source": [
    "# Evaluate the model\n",
    "loss, accuracy = model.evaluate(X_test, y_test)\n",
    "print(f\"Test Accuracy: {accuracy:.4f}\")"
   ]
  },
  {
   "cell_type": "code",
   "execution_count": 12,
   "id": "e9d955b7-778a-4378-b8c7-412fcfb9384b",
   "metadata": {},
   "outputs": [
    {
     "name": "stderr",
     "output_type": "stream",
     "text": [
      "WARNING:absl:Compiled the loaded model, but the compiled metrics have yet to be built. `model.compile_metrics` will be empty until you train or evaluate the model.\n"
     ]
    }
   ],
   "source": [
    "from tensorflow.keras.models import load_model\n",
    "import os\n",
    "import pickle\n",
    "# Load the saved model\n",
    "model = load_model(\"health_model.h5\")\n",
    "# Load label encoders\n",
    "with open(\"label_encoders.pkl\", \"rb\") as f:\n",
    "    label_encoders = pickle.load(f)\n",
    "# Load scaler\n",
    "with open(\"scaler.pkl\", \"rb\") as f:\n",
    "    scaler = pickle.load(f)"
   ]
  },
  {
   "cell_type": "code",
   "execution_count": 13,
   "id": "72bd2211-8c28-45a8-973a-44a25fd76485",
   "metadata": {},
   "outputs": [
    {
     "name": "stdout",
     "output_type": "stream",
     "text": [
      "True label 456    No\n",
      "Name: HadHeartAttack, dtype: object\n",
      "\u001b[1m1/1\u001b[0m \u001b[32m━━━━━━━━━━━━━━━━━━━━\u001b[0m\u001b[37m\u001b[0m \u001b[1m0s\u001b[0m 56ms/step\n",
      "\n",
      "Selected Row Index: 456\n",
      "Prediction for HadHeartAttack: No\n"
     ]
    }
   ],
   "source": [
    "import pandas as pd\n",
    "import numpy as np\n",
    "import pickle\n",
    "from tensorflow.keras.models import load_model\n",
    "#selecting sample from excel file and making predictions\n",
    "\n",
    "# Load the original dataset\n",
    "file_path = r\"heart_2022_no_nans.xlsx\"\n",
    "df_original = pd.read_excel(file_path, engine=\"openpyxl\")\n",
    "# Select a random row from the dataset\n",
    "random_index = 456\n",
    "random_sample = df_original.iloc[random_index:random_index+1].copy()  # Keep it as a DataFrame\n",
    "# Define target column\n",
    "target_col = \"HadHeartAttack\"\n",
    "print(\"True label\",random_sample[target_col])\n",
    "# Drop target column before prediction\n",
    "if target_col in random_sample.columns:\n",
    "    random_sample = random_sample.drop(columns=[target_col])\n",
    "# Identify categorical and numerical columns\n",
    "categorical_cols = random_sample.select_dtypes(include=['object']).columns.tolist()  \n",
    "numerical_cols = random_sample.select_dtypes(include=['int64', 'float64']).columns.tolist()  \n",
    "# Encode categorical columns using saved encoders\n",
    "for col in categorical_cols:\n",
    "    random_sample[col] = label_encoders[col].transform(random_sample[col])\n",
    "# Normalize numerical columns using saved scaler\n",
    "random_sample[numerical_cols] = scaler.transform(random_sample[numerical_cols])\n",
    "# Make prediction\n",
    "prediction = model.predict(random_sample)\n",
    "# Convert prediction to \"Yes\" or \"No\"\n",
    "predicted_class = \"Yes\" if prediction[0][0] > 0.1 else \"No\"\n",
    "# Print results\n",
    "print(f\"\\nSelected Row Index: {random_index}\")\n",
    "print(f\"Prediction for HadHeartAttack: {predicted_class}\")\n"
   ]
  },
  {
   "cell_type": "code",
   "execution_count": 17,
   "id": "03ed9767-e53a-4702-901a-0c7d3759321f",
   "metadata": {},
   "outputs": [
    {
     "name": "stdout",
     "output_type": "stream",
     "text": [
      "True label 456    No\n",
      "Name: HadHeartAttack, dtype: object\n",
      "\u001b[1m1/1\u001b[0m \u001b[32m━━━━━━━━━━━━━━━━━━━━\u001b[0m\u001b[37m\u001b[0m \u001b[1m0s\u001b[0m 41ms/step\n",
      "\n",
      "Selected Row Index: 456\n",
      "Prediction for HadHeartAttack: No\n"
     ]
    }
   ],
   "source": [
    "import pandas as pd\n",
    "import numpy as np\n",
    "import pickle\n",
    "from tensorflow.keras.models import load_model\n",
    "\n",
    "\n",
    "# Load the original dataset\n",
    "file_path = \"heart_2022_no_nans.xlsx\"\n",
    "df_original = pd.read_excel(file_path, engine=\"openpyxl\")\n",
    "# Select a random row from the dataset\n",
    "random_index = 456\n",
    "random_sample = df_original.iloc[random_index:random_index+1].copy()  # Keep it as a DataFrame\n",
    "# Define target column\n",
    "target_col = \"HadHeartAttack\"\n",
    "print(\"True label\",random_sample[target_col])\n",
    "# Drop target column before prediction\n",
    "if target_col in random_sample.columns:\n",
    "    random_sample = random_sample.drop(columns=[target_col])\n",
    "# Identify categorical and numerical columns\n",
    "categorical_cols = random_sample.select_dtypes(include=['object']).columns.tolist()  \n",
    "numerical_cols = random_sample.select_dtypes(include=['int64', 'float64']).columns.tolist()  \n",
    "# Encode categorical columns using saved encoders\n",
    "for col in categorical_cols:\n",
    "    random_sample[col] = label_encoders[col].transform(random_sample[col])\n",
    "# Normalize numerical columns using saved scaler\n",
    "random_sample[numerical_cols] = scaler.transform(random_sample[numerical_cols])\n",
    "# Make prediction\n",
    "prediction = model.predict(random_sample)\n",
    "# Convert prediction to \"Yes\" or \"No\"\n",
    "predicted_class = \"Yes\" if prediction[0][0] > 0.2 else \"No\"\n",
    "\n",
    "# Print results\n",
    "print(f\"\\nSelected Row Index: {random_index}\")\n",
    "print(f\"Prediction for HadHeartAttack: {predicted_class}\")"
   ]
  },
  {
   "cell_type": "code",
   "execution_count": null,
   "id": "ad2e78d3",
   "metadata": {},
   "outputs": [],
   "source": []
  }
 ],
 "metadata": {
  "kernelspec": {
   "display_name": "Python 3",
   "language": "python",
   "name": "python3"
  },
  "language_info": {
   "codemirror_mode": {
    "name": "ipython",
    "version": 3
   },
   "file_extension": ".py",
   "mimetype": "text/x-python",
   "name": "python",
   "nbconvert_exporter": "python",
   "pygments_lexer": "ipython3",
   "version": "3.11.3"
  }
 },
 "nbformat": 4,
 "nbformat_minor": 5
}
